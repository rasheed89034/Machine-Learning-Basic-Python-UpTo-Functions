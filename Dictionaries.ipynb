{
 "cells": [
  {
   "cell_type": "markdown",
   "metadata": {},
   "source": [
    "#### Dictionaries are unordered collections of items that store data in key-value pairs. All data is stored in key-value pairs. Keys must be unique and immutable DIC are muta"
   ]
  },
  {
   "cell_type": "code",
   "execution_count": 2,
   "metadata": {},
   "outputs": [
    {
     "name": "stdout",
     "output_type": "stream",
     "text": [
      "{}\n",
      "<class 'dict'>\n"
     ]
    }
   ],
   "source": [
    "empty_dit = {}\n",
    "print(empty_dit)\n",
    "print(type(empty_dit))"
   ]
  },
  {
   "cell_type": "code",
   "execution_count": 31,
   "metadata": {},
   "outputs": [
    {
     "name": "stdout",
     "output_type": "stream",
     "text": [
      "{'name': 'Rasheed Ahmad', 'age': 20, 'grade': 'A+'}\n"
     ]
    }
   ],
   "source": [
    "student = {\"name\" : \"Rasheed Ahmad\", ## first is key and second is value\n",
    "            \"age\" : 20,\n",
    "            \"grade\" : \"A+\"}\n",
    "print(student)"
   ]
  },
  {
   "cell_type": "code",
   "execution_count": null,
   "metadata": {},
   "outputs": [
    {
     "name": "stdout",
     "output_type": "stream",
     "text": [
      "{'name': 'Rasheed Ahmad', 'age': 'A+'}\n"
     ]
    }
   ],
   "source": [
    "student = {\"name\" : \"Rasheed Ahmad\", \n",
    "            \"age\" : 20,\n",
    "            \"age\" : \"A+\"} ## if the there is same key with different values the value will override with last value and the other values will drop \n",
    "print(student)"
   ]
  },
  {
   "cell_type": "markdown",
   "metadata": {},
   "source": [
    "### Accessing the values of Dict"
   ]
  },
  {
   "cell_type": "code",
   "execution_count": 5,
   "metadata": {},
   "outputs": [
    {
     "name": "stdout",
     "output_type": "stream",
     "text": [
      "A+\n"
     ]
    }
   ],
   "source": [
    "student = {\"name\" : \"Rasheed Ahmad\", \n",
    "            \"age\" : 20,\n",
    "            \"grade\" : \"A+\"}\n",
    "print(student['grade'])"
   ]
  },
  {
   "cell_type": "code",
   "execution_count": 8,
   "metadata": {},
   "outputs": [
    {
     "name": "stdout",
     "output_type": "stream",
     "text": [
      "20\n",
      "None\n"
     ]
    }
   ],
   "source": [
    "## You can access the element by get() function for example\n",
    "student = {\"name\" : \"Rasheed Ahmad\", \n",
    "            \"age\" : 20,\n",
    "            \"grade\" : \"A+\"}\n",
    "print(student.get('age'))\n",
    "print(student.get('lastName'))\n"
   ]
  },
  {
   "cell_type": "code",
   "execution_count": 10,
   "metadata": {},
   "outputs": [
    {
     "name": "stdout",
     "output_type": "stream",
     "text": [
      "{'name': 'Rasheed Ahmad', 'age': 19, 'grade': 'A+', 'address': 'Pakistan'}\n"
     ]
    }
   ],
   "source": [
    "## Modifing DICT\n",
    "student['age'] = 19\n",
    "student['address'] = \"Pakistan\"\n",
    "print(student)"
   ]
  },
  {
   "cell_type": "code",
   "execution_count": null,
   "metadata": {},
   "outputs": [
    {
     "name": "stdout",
     "output_type": "stream",
     "text": [
      "{'name': 'Rasheed Ahmad', 'grade': 'A+', 'address': 'Pakistan'}\n"
     ]
    }
   ],
   "source": [
    "## del is used for delete key and value from the Dict\n",
    "del student['age']\n",
    "print(student)"
   ]
  },
  {
   "cell_type": "code",
   "execution_count": 16,
   "metadata": {},
   "outputs": [
    {
     "name": "stdout",
     "output_type": "stream",
     "text": [
      "dict_keys(['name', 'grade', 'address'])\n",
      "dict_values(['Rasheed Ahmad', 'A+', 'Pakistan'])\n",
      "dict_items([('name', 'Rasheed Ahmad'), ('grade', 'A+'), ('address', 'Pakistan')])\n"
     ]
    }
   ],
   "source": [
    "## Some common built-up function of Dict\n",
    "## .key , .values() , .iteams()\n",
    "## .keys() returns all keys.\n",
    "## .values() returns all values.\n",
    "## .items() returns all key-value pairs as tuples.\n",
    "\n",
    "print(student.keys())\n",
    "print(student.values())\n",
    "print(student.items())"
   ]
  },
  {
   "cell_type": "code",
   "execution_count": 18,
   "metadata": {},
   "outputs": [
    {
     "name": "stdout",
     "output_type": "stream",
     "text": [
      "{'name': 'Rasheed Ahmad', 'grade': 'A+', 'address': 'Pakistan'}\n",
      "{'name': 'Rasheed Ahmad', 'grade': 'A+', 'address': 'Pakistan'}\n"
     ]
    }
   ],
   "source": [
    "## Shallow Copy\n",
    "studentCopy = student\n",
    "print(studentCopy)\n",
    "print(student)"
   ]
  },
  {
   "cell_type": "code",
   "execution_count": 20,
   "metadata": {},
   "outputs": [
    {
     "name": "stdout",
     "output_type": "stream",
     "text": [
      "{'name': 'Ali', 'grade': 'A+', 'address': 'Pakistan'}\n",
      "{'name': 'Ali', 'grade': 'A+', 'address': 'Pakistan'}\n"
     ]
    }
   ],
   "source": [
    "student[\"name\"] = \"Ali\"\n",
    "print(studentCopy)\n",
    "print(student)"
   ]
  },
  {
   "cell_type": "code",
   "execution_count": 21,
   "metadata": {},
   "outputs": [
    {
     "name": "stdout",
     "output_type": "stream",
     "text": [
      "{'name': 'Ali', 'grade': 'A+', 'address': 'Pakistan'}\n",
      "{'name': 'Ali', 'grade': 'A+', 'address': 'Pakistan'}\n"
     ]
    }
   ],
   "source": [
    "## Shallow Copy\n",
    "student_Copy = student\n",
    "print(student)\n",
    "print(student_Copy)"
   ]
  },
  {
   "cell_type": "code",
   "execution_count": 22,
   "metadata": {},
   "outputs": [
    {
     "name": "stdout",
     "output_type": "stream",
     "text": [
      "{'name': 'Ahmad', 'grade': 'A+', 'address': 'Pakistan'}\n",
      "{'name': 'Ahmad', 'grade': 'A+', 'address': 'Pakistan'}\n"
     ]
    }
   ],
   "source": [
    "## Now what if i do some changes in one dict the same changes will occurs in the copy dict let's see\n",
    "\n",
    "student_Copy[\"name\"] = \"Ahmad\"\n",
    "print(student)\n",
    "print(student_Copy)"
   ]
  },
  {
   "cell_type": "code",
   "execution_count": null,
   "metadata": {},
   "outputs": [
    {
     "name": "stdout",
     "output_type": "stream",
     "text": [
      "{'name': 'Ahmad', 'grade': 'A+', 'address': 'Pakistan'}\n",
      "{'name': 'Muhammad Ali', 'grade': 'A+', 'address': 'Pakistan'}\n"
     ]
    }
   ],
   "source": [
    "## so here you can see that the both dict have been the same changes to \n",
    "## to avoid this thing use \".copy()\" built-up function\n",
    "## .copy() function is actually assign the another refrence in the memory and store the data\n",
    "\n",
    "student_Copy01 = student.copy()\n",
    "student_Copy01['name'] = \"Muhammad Ali\"\n",
    "print(student)\n",
    "print(student_Copy01) \n",
    "\n",
    "## Now you can see that the student dict is remain the same and changes is only occur in the other dict. "
   ]
  },
  {
   "cell_type": "code",
   "execution_count": 25,
   "metadata": {},
   "outputs": [
    {
     "name": "stdout",
     "output_type": "stream",
     "text": [
      "name\n",
      "grade\n",
      "address\n",
      "Ahmad\n",
      "A+\n",
      "Pakistan\n"
     ]
    }
   ],
   "source": [
    "## itreate keys and values of dictionaries\n",
    "for keys in student.keys():\n",
    "    print(keys)\n",
    "\n",
    "## same you can itreate values\n",
    "for values in student.values():\n",
    "    print(values)"
   ]
  },
  {
   "cell_type": "code",
   "execution_count": 26,
   "metadata": {},
   "outputs": [
    {
     "name": "stdout",
     "output_type": "stream",
     "text": [
      "name Ahmad\n",
      "grade A+\n",
      "address Pakistan\n"
     ]
    }
   ],
   "source": [
    "for key, value in student.items():\n",
    "    print(key,value)"
   ]
  },
  {
   "cell_type": "code",
   "execution_count": 27,
   "metadata": {},
   "outputs": [
    {
     "name": "stdout",
     "output_type": "stream",
     "text": [
      "{'student1': {'name': 'Rasheed Ahmad', 'age': '20'}, 'student2': {'name': 'Ali khan', 'age': '21'}}\n"
     ]
    }
   ],
   "source": [
    "## nested dict\n",
    "\n",
    "students = {\n",
    "    'student1' : {'name': 'Rasheed Ahmad' , 'age' : '20'},\n",
    "    'student2' : {'name' : 'Ali khan' , 'age' : '21'}\n",
    "}\n",
    "print(students)"
   ]
  },
  {
   "cell_type": "code",
   "execution_count": null,
   "metadata": {},
   "outputs": [
    {
     "name": "stdout",
     "output_type": "stream",
     "text": [
      "Rasheed Ahmad\n"
     ]
    }
   ],
   "source": [
    "## accessing element\n",
    "print(students['student1']['name'])"
   ]
  },
  {
   "cell_type": "code",
   "execution_count": 30,
   "metadata": {},
   "outputs": [
    {
     "name": "stdout",
     "output_type": "stream",
     "text": [
      "{1: 1, 2: 2, 3: 3, 4: 4}\n"
     ]
    }
   ],
   "source": [
    "numbers = [1, 2, 2, 3, 3, 3, 4, 4, 4, 4]\n",
    "frequency = {}\n",
    "for number in numbers:\n",
    "    if number in frequency:\n",
    "        frequency[number] += 1\n",
    "    else:\n",
    "        frequency[number] = 1\n",
    "print(frequency)"
   ]
  },
  {
   "cell_type": "code",
   "execution_count": 32,
   "metadata": {},
   "outputs": [
    {
     "name": "stdout",
     "output_type": "stream",
     "text": [
      "name : Rasheed Ahmad\n",
      "age : 20\n",
      "grade : A+\n"
     ]
    }
   ],
   "source": [
    "for key,value in student.items():\n",
    "    print(key, \":\", value)"
   ]
  }
 ],
 "metadata": {
  "kernelspec": {
   "display_name": "Python 3",
   "language": "python",
   "name": "python3"
  },
  "language_info": {
   "codemirror_mode": {
    "name": "ipython",
    "version": 3
   },
   "file_extension": ".py",
   "mimetype": "text/x-python",
   "name": "python",
   "nbconvert_exporter": "python",
   "pygments_lexer": "ipython3",
   "version": "3.12.0"
  }
 },
 "nbformat": 4,
 "nbformat_minor": 2
}
