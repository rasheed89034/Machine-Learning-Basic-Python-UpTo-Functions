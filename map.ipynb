{
 "cells": [
  {
   "cell_type": "markdown",
   "metadata": {},
   "source": [
    "## The map function applies a given function to all items in an input list or any other iterable and returns a map object, which is an iterator."
   ]
  },
  {
   "cell_type": "code",
   "execution_count": 1,
   "metadata": {},
   "outputs": [
    {
     "data": {
      "text/plain": [
       "[1, 4, 9, 16, 25, 36, 49, 64, 81, 100]"
      ]
     },
     "execution_count": 1,
     "metadata": {},
     "output_type": "execute_result"
    }
   ],
   "source": [
    "def square(x):\n",
    "    return x * x\n",
    "\n",
    "numbers = [1,2,3,4,5,6,7,8,9,10]\n",
    "list(map(square,numbers))"
   ]
  },
  {
   "cell_type": "code",
   "execution_count": 3,
   "metadata": {},
   "outputs": [
    {
     "data": {
      "text/plain": [
       "[1, 4, 9, 16, 25]"
      ]
     },
     "execution_count": 3,
     "metadata": {},
     "output_type": "execute_result"
    }
   ],
   "source": [
    "## lambda with map() function\n",
    "numbers = [1,2,3,4,5]\n",
    "list(map(lambda a : a * a , numbers))"
   ]
  },
  {
   "cell_type": "code",
   "execution_count": 6,
   "metadata": {},
   "outputs": [
    {
     "name": "stdout",
     "output_type": "stream",
     "text": [
      "[5, 7, 9]\n"
     ]
    }
   ],
   "source": [
    "## adding the values of two list in one list and store in a single list using map() function and lambda\n",
    "\n",
    "list1 = [1,2,3]\n",
    "list2 = [4,5,6]\n",
    "addingList = list(map(lambda a,b:a+b , list1,list2))\n",
    "print(addingList)\n"
   ]
  },
  {
   "cell_type": "code",
   "execution_count": 13,
   "metadata": {},
   "outputs": [
    {
     "name": "stdout",
     "output_type": "stream",
     "text": [
      "<class 'str'>\n",
      "[1, 2, 3]\n",
      "<class 'int'>\n"
     ]
    }
   ],
   "source": [
    "## converting String list into int list\n",
    "listOfString = ['1','2','3']\n",
    "print(type(listOfString[2]))\n",
    "listOfIntegers = list(map(int,listOfString))\n",
    "print(listOfIntegers)\n",
    "print(type(listOfIntegers[2]))"
   ]
  },
  {
   "cell_type": "code",
   "execution_count": 15,
   "metadata": {},
   "outputs": [
    {
     "name": "stdout",
     "output_type": "stream",
     "text": [
      "['APPLE', 'BANANA', 'KIWI']\n"
     ]
    }
   ],
   "source": [
    "## How to Convert lowerrCase character into UpperCase\n",
    "listOfLowerCase = ['apple', 'banana', 'kiwi']\n",
    "listOfUpperCase = list(map(str.upper, listOfLowerCase))\n",
    "print(listOfUpperCase)"
   ]
  },
  {
   "cell_type": "markdown",
   "metadata": {},
   "source": [
    "## Applying Map to a List of Dictionaries\n"
   ]
  },
  {
   "cell_type": "code",
   "execution_count": null,
   "metadata": {},
   "outputs": [
    {
     "name": "stdout",
     "output_type": "stream",
     "text": [
      "['Rasheed Ahmad', 'Ali khan']\n"
     ]
    }
   ],
   "source": [
    "def getName(person):\n",
    "    return person['name']\n",
    "people = [\n",
    "    {'name' : 'Rasheed Ahmad' , 'age' : 20},\n",
    "    {'name' : 'Ali khan' , 'age' : 21}\n",
    "]\n",
    "allNames = list(map(getName, people))\n",
    "print(allNames)"
   ]
  }
 ],
 "metadata": {
  "kernelspec": {
   "display_name": "Python 3",
   "language": "python",
   "name": "python3"
  },
  "language_info": {
   "codemirror_mode": {
    "name": "ipython",
    "version": 3
   },
   "file_extension": ".py",
   "mimetype": "text/x-python",
   "name": "python",
   "nbconvert_exporter": "python",
   "pygments_lexer": "ipython3",
   "version": "3.12.0"
  }
 },
 "nbformat": 4,
 "nbformat_minor": 2
}
