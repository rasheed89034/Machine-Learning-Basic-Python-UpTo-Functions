{
 "cells": [
  {
   "cell_type": "markdown",
   "metadata": {},
   "source": [
    "## Python Data Type Conversions\n"
   ]
  },
  {
   "cell_type": "markdown",
   "metadata": {},
   "source": [
    "#### Int to String"
   ]
  },
  {
   "cell_type": "code",
   "execution_count": null,
   "metadata": {},
   "outputs": [
    {
     "name": "stdout",
     "output_type": "stream",
     "text": [
      "<class 'int'>\n"
     ]
    }
   ],
   "source": [
    "age = 20\n",
    "print(type(age))"
   ]
  },
  {
   "cell_type": "code",
   "execution_count": null,
   "metadata": {},
   "outputs": [
    {
     "name": "stdout",
     "output_type": "stream",
     "text": [
      "<class 'str'>\n"
     ]
    }
   ],
   "source": [
    "age = str(age)\n",
    "print(type(age))"
   ]
  },
  {
   "cell_type": "markdown",
   "metadata": {},
   "source": [
    "### Now String to INT"
   ]
  },
  {
   "cell_type": "code",
   "execution_count": null,
   "metadata": {},
   "outputs": [
    {
     "name": "stdout",
     "output_type": "stream",
     "text": [
      "<class 'str'>\n",
      "<class 'int'>\n"
     ]
    }
   ],
   "source": [
    "age = \"25\"\n",
    "print(type(age))\n",
    "\n",
    "age = int(age)\n",
    "print(type(age))"
   ]
  },
  {
   "cell_type": "markdown",
   "metadata": {},
   "source": [
    "### like this you can convert any datatype to another type"
   ]
  },
  {
   "cell_type": "markdown",
   "metadata": {},
   "source": [
    "## Now to take input from user using Python"
   ]
  },
  {
   "cell_type": "code",
   "execution_count": null,
   "metadata": {},
   "outputs": [
    {
     "name": "stdout",
     "output_type": "stream",
     "text": [
      "Name is :  Rasheed Ahmad \n",
      "Age is :  20\n"
     ]
    }
   ],
   "source": [
    "## For Example you want to enter your data in a database actually how what's behinde this is?\n",
    "# Let's see the backend code\n",
    "\n",
    "name = input(\"Enter yiur name : \")\n",
    "age = int(input(\"Enter your age : \")) #we use int here to convert the input type bcz input accept string values\n",
    "\n",
    "print(\"Name is : \",name,\"\\nAge is : \",age)\n"
   ]
  },
  {
   "cell_type": "markdown",
   "metadata": {},
   "source": [
    "### Now let's make a small calculator"
   ]
  },
  {
   "cell_type": "code",
   "execution_count": null,
   "metadata": {},
   "outputs": [
    {
     "name": "stdout",
     "output_type": "stream",
     "text": [
      "Sum is :  46.0 \n",
      "Difference is :  -22.0 \n",
      "Product is :  408.0 \n",
      "Division is :  0.35294117647058826\n"
     ]
    }
   ],
   "source": [
    "num1 = float(input(\"Enter a number : \"))\n",
    "num2 = float(input(\"Enter another number : \"))\n",
    "\n",
    "sum = num1 + num2\n",
    "sub = num2 - num1\n",
    "mul = num1* num2\n",
    "div = num2 / num1\n",
    "\n",
    "print(\"Sum is : \",sum,\"\\nDifference is : \",sub,\"\\nProduct is : \",mul,\"\\nDivision is : \",div)"
   ]
  }
 ],
 "metadata": {
  "language_info": {
   "name": "python"
  }
 },
 "nbformat": 4,
 "nbformat_minor": 2
}
