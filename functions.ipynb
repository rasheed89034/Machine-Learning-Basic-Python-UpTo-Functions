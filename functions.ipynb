{
 "cells": [
  {
   "cell_type": "markdown",
   "metadata": {},
   "source": [
    "## Function"
   ]
  },
  {
   "cell_type": "code",
   "execution_count": 1,
   "metadata": {},
   "outputs": [
    {
     "name": "stdout",
     "output_type": "stream",
     "text": [
      "Odde Number :  5\n"
     ]
    }
   ],
   "source": [
    "def evenOdd(num):\n",
    "    if num % 2 == 0:\n",
    "        print(\"Even number : \",num)\n",
    "    else:\n",
    "        print(\"Odde Number : \",num)\n",
    "\n",
    "evenOdd(5)"
   ]
  },
  {
   "cell_type": "code",
   "execution_count": null,
   "metadata": {},
   "outputs": [
    {
     "name": "stdout",
     "output_type": "stream",
     "text": [
      "23\n",
      "4\n",
      "54\n",
      "53\n",
      "4\n",
      "34\n",
      "2\n",
      "3\n",
      "2\n",
      "43\n",
      "5\n",
      "5\n",
      "45\n",
      "Rasheed Ahmad\n"
     ]
    }
   ],
   "source": [
    "## postional arguments\n",
    "def allNumber(*args):\n",
    "    for numbers in args:\n",
    "        print(numbers)\n",
    "\n",
    "allNumber(23,4,54,53,4,34,2,3,2,43,5,5,45, \"Rasheed Ahmad\")"
   ]
  },
  {
   "cell_type": "code",
   "execution_count": null,
   "metadata": {},
   "outputs": [
    {
     "name": "stdout",
     "output_type": "stream",
     "text": [
      "name :  Rasheed Ahmad\n",
      "age :  20\n",
      "address :  peshawar\n"
     ]
    }
   ],
   "source": [
    "## keyword Argument key value pairs\n",
    "def personDetails(**args):\n",
    "    for key, values in args.items():\n",
    "        print(key , \": \",values)\n",
    "\n",
    "##dictnaory = {\"name\" : \"Rasheed Ahmad\", \"age\" : 20, \"Address\" : \"Peshawar\"}\n",
    "\n",
    "personDetails(name = \"Rasheed Ahmad\" , age = 20, address = \"peshawar\")"
   ]
  },
  {
   "cell_type": "code",
   "execution_count": 5,
   "metadata": {},
   "outputs": [
    {
     "name": "stdout",
     "output_type": "stream",
     "text": [
      "Positional arguments:\n",
      "1\n",
      "2\n",
      "3\n",
      "4\n",
      "5\n",
      "Keyword arguments:\n",
      "name: Rasheed Ahmad\n",
      "age: 32\n"
     ]
    }
   ],
   "source": [
    "## now combining both\n",
    "def print_detail(*args, **kwargs):\n",
    "    print(\"Positional arguments:\")\n",
    "    for val in args:\n",
    "        print(val)\n",
    "    print(\"Keyword arguments:\")\n",
    "    for key, value in kwargs.items():\n",
    "        print(f\"{key}: {value}\")\n",
    "\n",
    "print_detail(1, 2, 3, 4, 5, name=\"Rasheed Ahmad\", age=32)"
   ]
  },
  {
   "cell_type": "code",
   "execution_count": null,
   "metadata": {},
   "outputs": [
    {
     "name": "stdout",
     "output_type": "stream",
     "text": [
      "2 5 10\n"
     ]
    }
   ],
   "source": [
    "## Return multiple arguments\n",
    "def multiply(a, b):\n",
    "    return a, b, a * b\n",
    "\n",
    "a , b , mul = multiply(2,5)\n",
    "print(a, b, mul)"
   ]
  },
  {
   "cell_type": "markdown",
   "metadata": {},
   "source": [
    "## Function Practice Questions\n"
   ]
  },
  {
   "cell_type": "code",
   "execution_count": 16,
   "metadata": {},
   "outputs": [
    {
     "name": "stdout",
     "output_type": "stream",
     "text": [
      "77.0\n",
      "25.0\n"
     ]
    }
   ],
   "source": [
    "def convertTemp(temp,unit):\n",
    "\n",
    "    if unit == 'C':\n",
    "        return temp * 9/5 + 32\n",
    "    elif unit == 'F':\n",
    "        return (temp - 32) * 5/9\n",
    "    else:\n",
    "        return None\n",
    "\n",
    "print(convertTemp(25,'C'))\n",
    "print(convertTemp(77,'F'))"
   ]
  },
  {
   "cell_type": "code",
   "execution_count": 18,
   "metadata": {},
   "outputs": [],
   "source": [
    "## Check the password if it is strong or not\n",
    "def isItStrongPassword(password):\n",
    "    if len(password) < 8:\n",
    "        return False\n",
    "    if not any(char.isdigit() for char in password):\n",
    "        return False\n",
    "    if not any(char.islower for char in password):\n",
    "        return False\n",
    "    if not any(char.isupper for char in password):\n",
    "        return False\n",
    "    specialCharater = \"!@#$%^&*()-_+=[]{}|;:,.<>?/\\\\\"\n",
    "    if not any(char in specialCharater for char in password):\n",
    "        return False\n",
    "    return True\n",
    "    "
   ]
  },
  {
   "cell_type": "code",
   "execution_count": 20,
   "metadata": {},
   "outputs": [
    {
     "data": {
      "text/plain": [
       "False"
      ]
     },
     "execution_count": 20,
     "metadata": {},
     "output_type": "execute_result"
    }
   ],
   "source": [
    "password = input(\"Enter password : \")\n",
    "\n",
    "isItStrongPassword(password)"
   ]
  },
  {
   "cell_type": "code",
   "execution_count": 6,
   "metadata": {},
   "outputs": [],
   "source": [
    "## Checking Password, Is that a strong password or not\n",
    "## using Functions\n",
    "\n",
    "## first define and create a function of the problem\n",
    "\n",
    "def isStrongPassword_(password):\n",
    "    if len(password) < 8:\n",
    "        return False\n",
    "    if not any(char .isdigit() for char in password):\n",
    "        return False\n",
    "    if not any(char.islower() for char in password):\n",
    "        return False\n",
    "    if not any(char.isupper() for char in password):\n",
    "        return False\n",
    "    specicalChar = \"!@#$%^&*()-_+=[]{}|;:,.<>?/\\\\\"\n",
    "    if not any(char in specicalChar for char in password):\n",
    "        return False\n",
    "    return True"
   ]
  },
  {
   "cell_type": "code",
   "execution_count": 9,
   "metadata": {},
   "outputs": [
    {
     "data": {
      "text/plain": [
       "True"
      ]
     },
     "execution_count": 9,
     "metadata": {},
     "output_type": "execute_result"
    }
   ],
   "source": [
    "passWord = input(\"Enter a password\")\n",
    "## Calling of the fucntion\n",
    "isStrongPassword_(passWord)"
   ]
  },
  {
   "cell_type": "code",
   "execution_count": 13,
   "metadata": {},
   "outputs": [
    {
     "name": "stdout",
     "output_type": "stream",
     "text": [
      "Total Cost is :  22.1\n"
     ]
    }
   ],
   "source": [
    "def calculateTotalCost(card):\n",
    "    totalPrice = 0\n",
    "    for item in card:\n",
    "        totalPrice += item[\"price\"] * item[\"quantity\"]\n",
    "    \n",
    "    return totalPrice\n",
    "\n",
    "card = [\n",
    "    {\"name\" : \"Apple\" , \"price\" : 2 , \"quantity\" : 6},\n",
    "    {\"name\" : \"Banana\" , \"price\" : 2.3 , \"quantity\" : 2},\n",
    "    {\"name\" : \"Orange\" , \"price\" : 2.2 , \"quantity\" : 2.5}\n",
    "]\n",
    "\n",
    "total = calculateTotalCost(card)\n",
    "print(\"Total Cost is : \",total)"
   ]
  },
  {
   "cell_type": "markdown",
   "metadata": {},
   "source": [
    "## Check IF a String is Palindrome?"
   ]
  },
  {
   "cell_type": "code",
   "execution_count": 18,
   "metadata": {},
   "outputs": [
    {
     "name": "stdout",
     "output_type": "stream",
     "text": [
      "True\n",
      "Hello\n"
     ]
    }
   ],
   "source": [
    "def isPalindrome(str):\n",
    "    str = str.lower().replace(\" \",\"\")\n",
    "    return str == str[::-1]\n",
    "\n",
    "print(isPalindrome(\"A man a plan a canal Panama\"))\n",
    "print(\"Hello\")"
   ]
  },
  {
   "cell_type": "code",
   "execution_count": 22,
   "metadata": {},
   "outputs": [
    {
     "name": "stdout",
     "output_type": "stream",
     "text": [
      "120\n"
     ]
    }
   ],
   "source": [
    "def fact(num):\n",
    "    if num == 0:\n",
    "        return 1\n",
    "    else:\n",
    "        return num * fact(num -1)\n",
    "print(fact(5))"
   ]
  },
  {
   "cell_type": "markdown",
   "metadata": {},
   "source": [
    "## A Function To Read a File and Count the frequency of each Word"
   ]
  },
  {
   "cell_type": "code",
   "execution_count": 5,
   "metadata": {},
   "outputs": [
    {
     "name": "stdout",
     "output_type": "stream",
     "text": [
      "{'hello': 1, 'welcome': 1, 'to': 1, 'machine': 2, 'learning': 2, 'couse': 1, 'this': 1, 'is': 1, 'a': 1, '100': 1, 'days': 1, 'target': 1}\n"
     ]
    }
   ],
   "source": [
    "def countWordsFrequency(file_path):\n",
    "    wordCount = {} ## to print all words in the form of dictionary\n",
    "    with open(file_path, 'r') as file: ## with open is a built up function to read a file\n",
    "        for line in file:\n",
    "            words = line.split()\n",
    "            for word in words:\n",
    "                word = word.lower().strip('.,!?;:\"\\'')\n",
    "                wordCount[word] = wordCount.get(word,0)+1\n",
    "\n",
    "    return wordCount\n",
    "\n",
    "filePath = 'simple.txt'\n",
    "wordFrequency = countWordsFrequency(filePath)\n",
    "print(wordFrequency)\n",
    "            "
   ]
  },
  {
   "cell_type": "code",
   "execution_count": 6,
   "metadata": {},
   "outputs": [],
   "source": [
    "import re\n",
    "\n",
    "def is_valid_email(email):\n",
    "    pattern = r'^[A-Za-z0-9+_.-]+@[A-Za-z0-9.-]+\\.[A-Za-z]{2,}$'\n",
    "    return re.match(pattern, email) is not None"
   ]
  },
  {
   "cell_type": "code",
   "execution_count": 7,
   "metadata": {},
   "outputs": [
    {
     "name": "stdout",
     "output_type": "stream",
     "text": [
      "True\n",
      "False\n"
     ]
    }
   ],
   "source": [
    "print(is_valid_email('username@gmail.com'))  # Output: True\n",
    "print(is_valid_email('invalid-email'))  # Output: False"
   ]
  }
 ],
 "metadata": {
  "kernelspec": {
   "display_name": "Python 3",
   "language": "python",
   "name": "python3"
  },
  "language_info": {
   "codemirror_mode": {
    "name": "ipython",
    "version": 3
   },
   "file_extension": ".py",
   "mimetype": "text/x-python",
   "name": "python",
   "nbconvert_exporter": "python",
   "pygments_lexer": "ipython3",
   "version": "3.12.0"
  }
 },
 "nbformat": 4,
 "nbformat_minor": 2
}
