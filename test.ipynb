{
 "cells": [
  {
   "cell_type": "code",
   "execution_count": null,
   "metadata": {},
   "outputs": [
    {
     "name": "stdout",
     "output_type": "stream",
     "text": [
      "2\n"
     ]
    }
   ],
   "source": [
    "print(1+1)"
   ]
  },
  {
   "cell_type": "markdown",
   "metadata": {},
   "source": [
    "### Welcome to ML"
   ]
  },
  {
   "cell_type": "code",
   "execution_count": null,
   "metadata": {},
   "outputs": [
    {
     "name": "stdout",
     "output_type": "stream",
     "text": [
      "Hello World\n"
     ]
    }
   ],
   "source": [
    "print(\"Hello World\")"
   ]
  },
  {
   "cell_type": "code",
   "execution_count": null,
   "metadata": {},
   "outputs": [
    {
     "name": "stdout",
     "output_type": "stream",
     "text": [
      "<class 'str'>\n",
      "Rasheed Ahmad\n"
     ]
    }
   ],
   "source": [
    "name = \"Rasheed Ahmad\"\n",
    "print(type(name))\n",
    "print(name)"
   ]
  },
  {
   "cell_type": "code",
   "execution_count": null,
   "metadata": {},
   "outputs": [
    {
     "name": "stdout",
     "output_type": "stream",
     "text": [
      "<class 'int'>\n",
      "20\n"
     ]
    }
   ],
   "source": [
    "age = 20\n",
    "print(type(age))\n",
    "print(age)"
   ]
  },
  {
   "cell_type": "code",
   "execution_count": null,
   "metadata": {},
   "outputs": [
    {
     "name": "stdout",
     "output_type": "stream",
     "text": [
      "Can Apply\n"
     ]
    }
   ],
   "source": [
    "if age < 20:\n",
    "    print(\"Under Age\")\n",
    "else:\n",
    "    print(\"Can Apply\")"
   ]
  },
  {
   "cell_type": "markdown",
   "metadata": {},
   "source": [
    "### If indentation is not used correctly, Python will raise an indentation error. For example, if you do not indent the code inside an if block, you will get an error."
   ]
  },
  {
   "cell_type": "markdown",
   "metadata": {},
   "source": [
    "### Name Errors in Python\n",
    "#### If you use a variable that has not been defined, Python will raise a name error."
   ]
  },
  {
   "cell_type": "code",
   "execution_count": null,
   "metadata": {},
   "outputs": [
    {
     "name": "stdout",
     "output_type": "stream",
     "text": [
      "2\n"
     ]
    }
   ],
   "source": [
    "print(1+1)"
   ]
  },
  {
   "cell_type": "code",
   "execution_count": null,
   "metadata": {},
   "outputs": [
    {
     "name": "stdout",
     "output_type": "stream",
     "text": [
      "Name is :  Rasheed Ahmad \n",
      "Age is :  20 \n",
      "Address is :  Peshawar \n",
      "Are you a student :  True\n"
     ]
    }
   ],
   "source": [
    "name = \"Rasheed Ahmad\"\n",
    "age = 20\n",
    "address = \"Peshawar\"\n",
    "isStudent = True\n",
    "print(\"Name is : \",name,\"\\nAge is : \",age,\"\\nAddress is : \",address,\"\\nAre you a student : \",isStudent)"
   ]
  },
  {
   "cell_type": "markdown",
   "metadata": {},
   "source": [
    "### Declaring and Assigning Variables\n",
    "#### Must be start from letter or '_' and contain letters, numbers and undersore\n",
    "#### Should not be start from number or special character\n",
    "#### Variables are casesensitive\n"
   ]
  },
  {
   "cell_type": "code",
   "execution_count": null,
   "metadata": {},
   "outputs": [],
   "source": [
    "## Examples\n",
    "_age = 20\n",
    "first_Name = \"Rasheed\"\n",
    "\n",
    "# print(_age)\n",
    "# print(first_Name)\n",
    "\n",
    "## Invalid variables\n",
    "\n",
    "# @age = 90\n",
    "# 90Name = \"Ahamd\"\n"
   ]
  },
  {
   "cell_type": "markdown",
   "metadata": {},
   "source": [
    "### Identation Error\n",
    "###### Identation error are the most common arror in python it occurs when you don't ident your code\n",
    "###### inside if block or any typr of loop block. Python will rise an identation error consider the\n",
    "###### the following example"
   ]
  },
  {
   "cell_type": "code",
   "execution_count": null,
   "metadata": {},
   "outputs": [
    {
     "ename": "IndentationError",
     "evalue": "expected an indented block after 'if' statement on line 6 (214846165.py, line 7)",
     "output_type": "error",
     "traceback": [
      "  \u001b[36mCell\u001b[39m\u001b[36m \u001b[39m\u001b[32mIn[37]\u001b[39m\u001b[32m, line 7\u001b[39m\n",
      "\u001b[31m    \u001b[39m\u001b[31mprint(\"Under Age\")\u001b[39m\n",
      "    ^\n",
      "\u001b[31mIndentationError\u001b[39m\u001b[31m:\u001b[39m expected an indented block after 'if' statement on line 6\n"
     ]
    }
   ],
   "source": [
    "## Correct way of identation\n",
    "# _age = 16\n",
    "# if _age < 20:\n",
    "#     print(\"Under Age\")\n",
    "\n",
    "## Error because of identation\n",
    "# if _age < 20:\n",
    "# print(\"Under Age\")\n"
   ]
  },
  {
   "cell_type": "code",
   "execution_count": null,
   "metadata": {},
   "outputs": [],
   "source": []
  },
  {
   "cell_type": "code",
   "execution_count": null,
   "metadata": {},
   "outputs": [],
   "source": []
  },
  {
   "cell_type": "code",
   "execution_count": null,
   "metadata": {},
   "outputs": [],
   "source": []
  },
  {
   "cell_type": "code",
   "execution_count": null,
   "metadata": {},
   "outputs": [],
   "source": []
  }
 ],
 "metadata": {
  "language_info": {
   "name": "python"
  }
 },
 "nbformat": 4,
 "nbformat_minor": 2
}
