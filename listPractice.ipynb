{
 "cells": [
  {
   "cell_type": "markdown",
   "metadata": {},
   "source": [
    "## Some real life example using list"
   ]
  },
  {
   "cell_type": "code",
   "execution_count": null,
   "metadata": {},
   "outputs": [
    {
     "name": "stdout",
     "output_type": "stream",
     "text": [
      "['moring walk', 'pay bills', 'study time', 'tea Break', 'meet with friends', 'Go to run']\n",
      "['pay bills', 'study time', 'tea Break', 'meet with friends', 'Go to run']\n"
     ]
    }
   ],
   "source": [
    "listOfRealLife = [\"moring walk\", \"pay bills\", \"study time\"]\n",
    "\n",
    "## Adding some more task\n",
    "listOfRealLife.append(\"tea Break\")\n",
    "listOfRealLife.append(\"meet with friends\")\n",
    "listOfRealLife.append(\"Go to run\")\n",
    "\n",
    "print(listOfRealLife)\n",
    "\n",
    "## Removing task after completion for example i have done the morning walk\n",
    "\n",
    "listOfRealLife.remove(\"moring walk\")\n",
    "print(listOfRealLife)\n",
    "\n"
   ]
  },
  {
   "cell_type": "code",
   "execution_count": 4,
   "metadata": {},
   "outputs": [
    {
     "name": "stdout",
     "output_type": "stream",
     "text": [
      "pay the bills\n",
      "['pay bills', 'study time', 'tea Break', 'meet with friends', 'Go to run']\n"
     ]
    }
   ],
   "source": [
    "## Checking if a task is in the list\n",
    "if \"pay bills\" in listOfRealLife:\n",
    "    print(\"pay the bills\")\n",
    "else:\n",
    "    print(\"you have paid\")\n",
    "\n",
    "print(listOfRealLife)"
   ]
  },
  {
   "cell_type": "markdown",
   "metadata": {},
   "source": [
    "## Here is another example"
   ]
  },
  {
   "cell_type": "code",
   "execution_count": 6,
   "metadata": {},
   "outputs": [
    {
     "name": "stdout",
     "output_type": "stream",
     "text": [
      "64.57142857142857\n",
      "Highest Grade is :  90\n",
      "Lowest Grade is :  34\n"
     ]
    }
   ],
   "source": [
    "studentsGrade = [90,89,34,67,46,78,48]\n",
    "\n",
    "## find the avarage\n",
    "avarage = sum(studentsGrade) / len(studentsGrade)\n",
    "print(avarage)\n",
    "\n",
    "## Now find Highest and lowest grade using \"max\" & \"min\" bulit-Up functions\n",
    "print(\"Highest Grade is : \",max(studentsGrade))\n",
    "print(\"Lowest Grade is : \",min(studentsGrade))"
   ]
  },
  {
   "cell_type": "markdown",
   "metadata": {},
   "source": [
    "## Inventory list "
   ]
  },
  {
   "cell_type": "code",
   "execution_count": null,
   "metadata": {},
   "outputs": [
    {
     "name": "stdout",
     "output_type": "stream",
     "text": [
      "['apples', 'banana', 'kiwi', 'grapes']\n",
      "Present in stock: \n",
      "-  apples\n",
      "-  banana\n",
      "-  kiwi\n",
      "-  grapes\n"
     ]
    }
   ],
   "source": [
    "## inventory list\n",
    "inventory = [\"apples\" , \"banana\", \"orange\", \"kiwi\"]\n",
    "\n",
    "## adding a new item\n",
    "inventory.append(\"grapes\")\n",
    "\n",
    "## removing an item if it is out of stock\n",
    "inventory.remove(\"orange\")\n",
    "print(inventory)\n",
    "## cheack an item in the lsit\n",
    "if \"banana\" in inventory:\n",
    "    print(\"Present in stock: \")\n",
    "else:\n",
    "    print(\"out of stock:\")\n",
    "\n",
    "for item in inventory:\n",
    "    print(\"- \",item)\n",
    "\n"
   ]
  }
 ],
 "metadata": {
  "kernelspec": {
   "display_name": "Python 3",
   "language": "python",
   "name": "python3"
  },
  "language_info": {
   "codemirror_mode": {
    "name": "ipython",
    "version": 3
   },
   "file_extension": ".py",
   "mimetype": "text/x-python",
   "name": "python",
   "nbconvert_exporter": "python",
   "pygments_lexer": "ipython3",
   "version": "3.12.0"
  }
 },
 "nbformat": 4,
 "nbformat_minor": 2
}
