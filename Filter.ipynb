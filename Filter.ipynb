{
 "cells": [
  {
   "cell_type": "markdown",
   "metadata": {},
   "source": [
    "## Filter is used of to filter out the item on the base of condition from a list"
   ]
  },
  {
   "cell_type": "code",
   "execution_count": 1,
   "metadata": {},
   "outputs": [
    {
     "data": {
      "text/plain": [
       "True"
      ]
     },
     "execution_count": 1,
     "metadata": {},
     "output_type": "execute_result"
    }
   ],
   "source": [
    "def evenNumber(num):\n",
    "    if num % 2 == 0:\n",
    "        return True\n",
    "    else:\n",
    "        False\n",
    "evenNumber(90)"
   ]
  },
  {
   "cell_type": "code",
   "execution_count": 2,
   "metadata": {},
   "outputs": [
    {
     "name": "stdout",
     "output_type": "stream",
     "text": [
      "[2, 4, 6, 8, 10]\n"
     ]
    }
   ],
   "source": [
    "list1 = [1,2,3,4,5,6,7,8,9,10]\n",
    "evenNum = list(filter(evenNumber , list1))\n",
    "print(evenNum)"
   ]
  },
  {
   "cell_type": "code",
   "execution_count": 3,
   "metadata": {},
   "outputs": [
    {
     "name": "stdout",
     "output_type": "stream",
     "text": [
      "[6, 7, 8, 9, 10]\n"
     ]
    }
   ],
   "source": [
    "## Filter using lambda\n",
    "list1 = [1,2,3,4,5,6,7,8,9,10]\n",
    "greaterThanFive = list(filter(lambda x : x > 5, list1))\n",
    "print(greaterThanFive)"
   ]
  },
  {
   "cell_type": "code",
   "execution_count": 4,
   "metadata": {},
   "outputs": [
    {
     "name": "stdout",
     "output_type": "stream",
     "text": [
      "[6, 8, 10, 12, 14, 16, 18, 20]\n"
     ]
    }
   ],
   "source": [
    "## Filter with Multiple condition\n",
    "list2 =[1,2,3,4,5,6,7,8,9,10,11,12,13,14,15,16,17,18,19,20]\n",
    "evenGreaterThenFive = list(filter(lambda x : x > 5 and x % 2 == 0, list2))\n",
    "print(evenGreaterThenFive)"
   ]
  },
  {
   "cell_type": "code",
   "execution_count": 10,
   "metadata": {},
   "outputs": [
    {
     "name": "stdout",
     "output_type": "stream",
     "text": [
      "[{'name': 'Rasheed Ahmad', 'age': 20}, {'name': 'Ali khan', 'age': 22}, {'name': 'Kamran Ahmad', 'age': 28}]\n"
     ]
    }
   ],
   "source": [
    "## Now apply with Dictionaries\n",
    "def agegreater(personData):\n",
    "    return personData['age'] > 19\n",
    "\n",
    "peopleData = [\n",
    "    {'name' : 'Rasheed Ahmad' , 'age' : 20},\n",
    "    {'name' : 'Ali khan' , 'age' : 22},\n",
    "    {'name' : 'Bilal Ahmad' , 'age' : 16},\n",
    "    {'name' : 'Kamran Ahmad' , 'age' : 28}\n",
    "]\n",
    "ageGreaterThen19 = list(filter( agegreater, peopleData))\n",
    "print(ageGreaterThen19)"
   ]
  }
 ],
 "metadata": {
  "kernelspec": {
   "display_name": "Python 3",
   "language": "python",
   "name": "python3"
  },
  "language_info": {
   "codemirror_mode": {
    "name": "ipython",
    "version": 3
   },
   "file_extension": ".py",
   "mimetype": "text/x-python",
   "name": "python",
   "nbconvert_exporter": "python",
   "pygments_lexer": "ipython3",
   "version": "3.12.0"
  }
 },
 "nbformat": 4,
 "nbformat_minor": 2
}
