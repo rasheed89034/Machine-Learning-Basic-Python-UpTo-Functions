{
 "cells": [
  {
   "cell_type": "markdown",
   "metadata": {},
   "source": [
    "## Conditional Statements (if, elif, else)"
   ]
  },
  {
   "cell_type": "code",
   "execution_count": 2,
   "metadata": {},
   "outputs": [
    {
     "name": "stdout",
     "output_type": "stream",
     "text": [
      "You are allowed to vote in the elections\n"
     ]
    }
   ],
   "source": [
    "age = 20\n",
    "if age >= 18:\n",
    "    print(\"You are allowed to vote in the elections\")"
   ]
  },
  {
   "cell_type": "code",
   "execution_count": 3,
   "metadata": {},
   "outputs": [
    {
     "name": "stdout",
     "output_type": "stream",
     "text": [
      "You are allowed to vote in the elections\n"
     ]
    }
   ],
   "source": [
    "age = 34\n",
    "if age >= 34:\n",
    "    print(\"You are allowed to vote in the elections\")\n",
    "else:\n",
    "    print(\"You are underage\")"
   ]
  },
  {
   "cell_type": "code",
   "execution_count": 6,
   "metadata": {},
   "outputs": [
    {
     "name": "stdout",
     "output_type": "stream",
     "text": [
      "you are a child\n"
     ]
    }
   ],
   "source": [
    "age1 = 12\n",
    "if age1 < 13:\n",
    "    print(\"you are a child\")\n",
    "elif age1 < 18:\n",
    "    print(\"you are underage\")\n",
    "else:\n",
    "    print(\"you are adult\")"
   ]
  },
  {
   "cell_type": "markdown",
   "metadata": {},
   "source": [
    "## EVEN ODD Number"
   ]
  },
  {
   "cell_type": "code",
   "execution_count": 8,
   "metadata": {},
   "outputs": [
    {
     "name": "stdout",
     "output_type": "stream",
     "text": [
      "this is an even number :  10\n"
     ]
    }
   ],
   "source": [
    "num = int(input(\"Enter a number : \"))\n",
    "if num % 2 == 0:\n",
    "    print(\"this is an even number : \",num)\n",
    "else:\n",
    "    print(\"this is an odd number : \" , num)"
   ]
  },
  {
   "cell_type": "markdown",
   "metadata": {},
   "source": [
    "## Check a number that is that positive or negative"
   ]
  },
  {
   "cell_type": "code",
   "execution_count": 12,
   "metadata": {},
   "outputs": [
    {
     "name": "stdout",
     "output_type": "stream",
     "text": [
      "the number is zero :  0\n"
     ]
    }
   ],
   "source": [
    "num2 = int(input(\"Enter a number : \"))\n",
    "if num2 > 0:\n",
    "    print(\"this is a positive number : \",num2)\n",
    "elif num2 == 0:\n",
    "    print(\"the number is zero : \",num2)\n",
    "else:\n",
    "    print(\"this is a negative number : \",num2)"
   ]
  },
  {
   "cell_type": "markdown",
   "metadata": {},
   "source": [
    "### Nested if else statement"
   ]
  },
  {
   "cell_type": "code",
   "execution_count": null,
   "metadata": {},
   "outputs": [],
   "source": [
    "year = int(input(\"Enter year = \"))\n",
    "if year % 4 == 0:\n",
    "    if year % 100 == 0:\n",
    "        if year % 400 == 0:\n",
    "            print(\"this is a leap year\")\n",
    "        else:\n",
    "            print(\"this is a leap year\")\n",
    "    else:\n",
    "        print(\"this is a leap year\")\n",
    "else:\n",
    "    print(\"this is a leap year\")"
   ]
  }
 ],
 "metadata": {
  "kernelspec": {
   "display_name": "Python 3",
   "language": "python",
   "name": "python3"
  },
  "language_info": {
   "codemirror_mode": {
    "name": "ipython",
    "version": 3
   },
   "file_extension": ".py",
   "mimetype": "text/x-python",
   "name": "python",
   "nbconvert_exporter": "python",
   "pygments_lexer": "ipython3",
   "version": "3.12.0"
  }
 },
 "nbformat": 4,
 "nbformat_minor": 2
}
